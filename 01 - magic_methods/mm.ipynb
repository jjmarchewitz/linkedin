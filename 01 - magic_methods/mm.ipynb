{
 "cells": [
  {
   "cell_type": "markdown",
   "metadata": {},
   "source": [
    "# **Magic Methods** */// Lightning Round*\n",
    "*Jake Marchewitz*"
   ]
  },
  {
   "cell_type": "markdown",
   "metadata": {},
   "source": [
    "In Python, you can make your objects interact more deeply with the language by implementing a few magic methods. Magic methods are a special category of method you can choose to implement for a class that you’re writing. You’re already familiar with one of them:"
   ]
  },
  {
   "cell_type": "code",
   "execution_count": 8,
   "metadata": {},
   "outputs": [
    {
     "name": "stdout",
     "output_type": "stream",
     "text": [
      "Hello world!\n"
     ]
    }
   ],
   "source": [
    "class Foo:\n",
    "    def __init__(self):\n",
    "        self.data = [0, 1, 2]\n",
    "        print(\"Hello world!\")\n",
    "        \n",
    "foo = Foo()"
   ]
  },
  {
   "cell_type": "markdown",
   "metadata": {},
   "source": [
    "`__init__(self)` lets you set up a new object right after it's created. Python reserves the name `__init__` so that any method with that name will be treated as the initial startup method. The double underscore pattern indicates that the method name is reserved by the language, and Python contains many more of these than just `__init__`. A useful one is `__eq__`, which lets you customize when two items are equal (`==`)."
   ]
  },
  {
   "cell_type": "code",
   "execution_count": 9,
   "metadata": {},
   "outputs": [],
   "source": [
    "class Vehicle:\n",
    "    def __init__(self, num_wheels: int, num_doors: int):\n",
    "        self.wheels = num_wheels\n",
    "        self.doors = num_doors\n",
    "        \n",
    "    def __eq__(self, __value: object) -> bool:\n",
    "        # First check that __value is also a Vehicle\n",
    "        if type(__value) != Vehicle:\n",
    "            return False\n",
    "        # Then, check that all values are the same\n",
    "        if __value.wheels == self.wheels and __value.doors == self.doors:\n",
    "            return True\n",
    "        \n",
    "        return False   "
   ]
  },
  {
   "cell_type": "markdown",
   "metadata": {},
   "source": [
    "This implementation takes any object and checks if it's equal to `self` based on how you implemented `__eq__`"
   ]
  },
  {
   "cell_type": "code",
   "execution_count": 10,
   "metadata": {},
   "outputs": [
    {
     "name": "stdout",
     "output_type": "stream",
     "text": [
      "1 and 2 are equal: False\n",
      "2 and 3 are equal: True\n"
     ]
    }
   ],
   "source": [
    "vehicle_1 = Vehicle(num_wheels=4, num_doors=4)\n",
    "vehicle_2 = Vehicle(num_wheels=18, num_doors=2)\n",
    "vehicle_3 = Vehicle(num_wheels=18, num_doors=2)\n",
    "\n",
    "print(\"1 and 2 are equal:\", vehicle_1 == vehicle_2)\n",
    "print(\"2 and 3 are equal:\", vehicle_2 == vehicle_3)"
   ]
  },
  {
   "cell_type": "markdown",
   "metadata": {},
   "source": [
    "These kinds of methods are also referred to as \"dunder\" methods, short for double underscore. Another useful magic method is `__call__`, which lets you define what happens when an object is called just like a function."
   ]
  },
  {
   "cell_type": "code",
   "execution_count": 11,
   "metadata": {},
   "outputs": [
    {
     "name": "stdout",
     "output_type": "stream",
     "text": [
      "I'm nemo and I like to swim!!\n"
     ]
    }
   ],
   "source": [
    "class Fish:\n",
    "    def __init__(self, name: str):\n",
    "        self.name = name\n",
    "    \n",
    "    def __call__(self):\n",
    "        print(f\"I'm {self.name} and I like to swim!!\")\n",
    "        \n",
    "nemo = Fish(\"nemo\")\n",
    "nemo()"
   ]
  },
  {
   "cell_type": "markdown",
   "metadata": {},
   "source": [
    "This lets your class interact with the language the same way functions do. In fact, functions are ***objects*** in python. You can even add instance variables and *instance methods* to a normal function. Yes, `function1.function2()` is possible, everything is possible with Python! I'll cover this in a future lightning round, but for now here's a great video on the topic: https://www.youtube.com/watch?v=DnKxKFXB4NQ\n"
   ]
  },
  {
   "cell_type": "markdown",
   "metadata": {},
   "source": [
    "One last example. `__repr__` lets you customize how your object gets printed."
   ]
  },
  {
   "cell_type": "code",
   "execution_count": 12,
   "metadata": {},
   "outputs": [
    {
     "name": "stdout",
     "output_type": "stream",
     "text": [
      "XXXX\n",
      "XXXX\n",
      "XXXX\n",
      "XXXX\n",
      "\n",
      "XX\n",
      "XX\n",
      "\n"
     ]
    }
   ],
   "source": [
    "class Square:\n",
    "    def __init__(self, size: int):\n",
    "        self.size = size\n",
    "        \n",
    "    def __repr__(self) -> str:\n",
    "        output = \"\"\n",
    "        for _ in range(self.size):\n",
    "            # Shorthand for \"repeat the character X, self.size times in a row\"\n",
    "            output += \"X\" * self.size\n",
    "            output += \"\\n\"\n",
    "        \n",
    "        return output\n",
    "    \n",
    "square_4 = Square(4)\n",
    "print(square_4)\n",
    "\n",
    "square_2 = Square(2)\n",
    "print(square_2)"
   ]
  },
  {
   "cell_type": "markdown",
   "metadata": {},
   "source": [
    "There are a ton of these magic methods.\n",
    "\n",
    "`__getitem__` lets you customize how your object interacts with the indexing syntax: `list[5]` and `dict[\"Test\"]`\n",
    "\n",
    "`__iter__` and `__next__` let you turn your object into an iterator\n",
    "\n",
    "`__add__`,`__sub__`, `__mul__`, `__div__` are add, subtract, multiply, and divide respectively. This makes your object work with the built-in `+`, `-`, `*`, and `/` operators. Other operators such as exponentiation, mod, boolean operators, bit shift operators, etc. all have associated magic methods.\n",
    "\n",
    "\n",
    "`__enter__` and `__exit__` allow your object to be used as a context manager (i.e. they can be used in `with` statements)\n",
    "\n",
    "`__hash__` lets you customize how the built-in `hash()` function hashes your object\n",
    "\n",
    "\n",
    "...and so many more. Read through the documentation linked below for more info!"
   ]
  },
  {
   "cell_type": "markdown",
   "metadata": {},
   "source": [
    "Thanks for reading, go try this for yourself!\n",
    "\n",
    "List of all magic methods (or as the documentation calls them, \"Special Method Names\"): https://docs.python.org/3/reference/datamodel.html#special-method-names\n",
    "\n",
    "List of all built-in functions (many of these just call magic methods): https://docs.python.org/3/library/functions.html"
   ]
  }
 ],
 "metadata": {
  "kernelspec": {
   "display_name": "Python 3",
   "language": "python",
   "name": "python3"
  },
  "language_info": {
   "codemirror_mode": {
    "name": "ipython",
    "version": 3
   },
   "file_extension": ".py",
   "mimetype": "text/x-python",
   "name": "python",
   "nbconvert_exporter": "python",
   "pygments_lexer": "ipython3",
   "version": "3.11.4"
  },
  "orig_nbformat": 4
 },
 "nbformat": 4,
 "nbformat_minor": 2
}
